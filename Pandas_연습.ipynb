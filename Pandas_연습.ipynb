{
  "nbformat": 4,
  "nbformat_minor": 0,
  "metadata": {
    "colab": {
      "name": "Pandas 연습",
      "version": "0.3.2",
      "provenance": [],
      "toc_visible": true,
      "include_colab_link": true
    },
    "kernelspec": {
      "name": "python3",
      "display_name": "Python 3"
    }
  },
  "cells": [
    {
      "cell_type": "markdown",
      "metadata": {
        "id": "view-in-github",
        "colab_type": "text"
      },
      "source": [
        "<a href=\"https://colab.research.google.com/github/minseok2/NFC_GPS/blob/master/Pandas_%EC%97%B0%EC%8A%B5.ipynb\" target=\"_parent\"><img src=\"https://colab.research.google.com/assets/colab-badge.svg\" alt=\"Open In Colab\"/></a>"
      ]
    },
    {
      "cell_type": "markdown",
      "metadata": {
        "id": "vG1cF1uwz4os",
        "colab_type": "text"
      },
      "source": [
        "# Series 데이터 구조 만들기"
      ]
    },
    {
      "cell_type": "code",
      "metadata": {
        "id": "_5mdjX1Yw3hV",
        "colab_type": "code",
        "outputId": "ecd9ba83-92fc-4446-f584-17b82da04f1d",
        "colab": {
          "base_uri": "https://localhost:8080/",
          "height": 70
        }
      },
      "source": [
        "import pandas as pd \n",
        "\n",
        "fruit = pd.Series([3500, 2500], index = ['apple', 'peer']) \n",
        "\n",
        "print(fruit)"
      ],
      "execution_count": 0,
      "outputs": [
        {
          "output_type": "stream",
          "text": [
            "apple    3500\n",
            "peer     2500\n",
            "dtype: int64\n"
          ],
          "name": "stdout"
        }
      ]
    },
    {
      "cell_type": "markdown",
      "metadata": {
        "id": "hXp-D6Ff0crT",
        "colab_type": "text"
      },
      "source": [
        "Series 형태는 values 를 통해 항목을 추출할 수 있고 index를 따로 추출 할 수 있음."
      ]
    },
    {
      "cell_type": "code",
      "metadata": {
        "id": "fxDfEE1g0qf-",
        "colab_type": "code",
        "outputId": "eb6ffb6c-21a6-46f3-d4b8-dacd7d115c71",
        "colab": {
          "base_uri": "https://localhost:8080/",
          "height": 53
        }
      },
      "source": [
        "print(fruit.values)\n",
        "print(fruit.index) "
      ],
      "execution_count": 0,
      "outputs": [
        {
          "output_type": "stream",
          "text": [
            "[3500 2500]\n",
            "Index(['apple', 'peer'], dtype='object')\n"
          ],
          "name": "stdout"
        }
      ]
    },
    {
      "cell_type": "markdown",
      "metadata": {
        "id": "GrQ3ZG7G1VpH",
        "colab_type": "text"
      },
      "source": [
        "index의 이름과 value의 이름을 지정할 수 있음"
      ]
    },
    {
      "cell_type": "code",
      "metadata": {
        "id": "jJLY2G7N1In5",
        "colab_type": "code",
        "outputId": "8ed8079d-9a17-42e3-a50c-b664315c4131",
        "colab": {
          "base_uri": "https://localhost:8080/",
          "height": 89
        }
      },
      "source": [
        "fruit.index.name = 'fruitName'\n",
        "fruit.name = 'fruitPrice'\n",
        "\n",
        "print(fruit)"
      ],
      "execution_count": 0,
      "outputs": [
        {
          "output_type": "stream",
          "text": [
            "fruitName\n",
            "apple    3500\n",
            "peer     2500\n",
            "Name: fruitPrice, dtype: int64\n"
          ],
          "name": "stdout"
        }
      ]
    },
    {
      "cell_type": "markdown",
      "metadata": {
        "id": "5z7kOcia7xIj",
        "colab_type": "text"
      },
      "source": [
        "# DataFrame 데이터 구조 만들기\n",
        "\n",
        "\n"
      ]
    },
    {
      "cell_type": "code",
      "metadata": {
        "id": "7DItO9U51bD0",
        "colab_type": "code",
        "outputId": "e8f3c63d-d2be-4b40-9d56-5dfd681b5ede",
        "colab": {
          "base_uri": "https://localhost:8080/",
          "height": 89
        }
      },
      "source": [
        "fruitData = {'fruitName' : ['apple', 'cherry', 'peer'], \n",
        "             'fruitPrice' : [2500, 6000, 1200], \n",
        "             'num' : [10, 3, 8] } \n",
        "\n",
        "fruitFrame = pd.DataFrame(fruitData) \n",
        "\n",
        "print(fruitFrame) "
      ],
      "execution_count": 0,
      "outputs": [
        {
          "output_type": "stream",
          "text": [
            "  fruitName  fruitPrice  num\n",
            "0     apple        2500   10\n",
            "1    cherry        6000    3\n",
            "2      peer        1200    8\n"
          ],
          "name": "stdout"
        }
      ]
    },
    {
      "cell_type": "code",
      "metadata": {
        "id": "h-t_D28T638E",
        "colab_type": "code",
        "outputId": "7cea647b-da71-48f4-f9eb-21151a73e490",
        "colab": {
          "base_uri": "https://localhost:8080/",
          "height": 89
        }
      },
      "source": [
        "fruitFrame = pd.DataFrame(fruitData, columns = ['fruitPrice', 'num', 'fruitName'])\n",
        "\n",
        "print(fruitFrame)"
      ],
      "execution_count": 0,
      "outputs": [
        {
          "output_type": "stream",
          "text": [
            "   fruitPrice  num fruitName\n",
            "0        2500   10     apple\n",
            "1        6000    3    cherry\n",
            "2        1200    8      peer\n"
          ],
          "name": "stdout"
        }
      ]
    },
    {
      "cell_type": "markdown",
      "metadata": {
        "id": "Q2kfz5es7-X5",
        "colab_type": "text"
      },
      "source": [
        "특정 컬럼 출력하기"
      ]
    },
    {
      "cell_type": "code",
      "metadata": {
        "id": "z2p11sE07Nqe",
        "colab_type": "code",
        "outputId": "7b16802f-ca00-477c-9000-a21ea522738d",
        "colab": {
          "base_uri": "https://localhost:8080/",
          "height": 89
        }
      },
      "source": [
        "fruitFrame['fruitName']"
      ],
      "execution_count": 0,
      "outputs": [
        {
          "output_type": "execute_result",
          "data": {
            "text/plain": [
              "0     apple\n",
              "1    cherry\n",
              "2      peer\n",
              "Name: fruitName, dtype: object"
            ]
          },
          "metadata": {
            "tags": []
          },
          "execution_count": 6
        }
      ]
    },
    {
      "cell_type": "code",
      "metadata": {
        "id": "_L4ouxsU7Tjr",
        "colab_type": "code",
        "outputId": "6641e6f2-40e8-428c-fc7e-935fdae6b450",
        "colab": {
          "base_uri": "https://localhost:8080/",
          "height": 89
        }
      },
      "source": [
        "fruitFrame.fruitName"
      ],
      "execution_count": 0,
      "outputs": [
        {
          "output_type": "execute_result",
          "data": {
            "text/plain": [
              "0     apple\n",
              "1    cherry\n",
              "2      peer\n",
              "Name: fruitName, dtype: object"
            ]
          },
          "metadata": {
            "tags": []
          },
          "execution_count": 7
        }
      ]
    },
    {
      "cell_type": "markdown",
      "metadata": {
        "id": "MtAH5Y1b-yPy",
        "colab_type": "text"
      },
      "source": [
        "컬럼 추가하기"
      ]
    },
    {
      "cell_type": "code",
      "metadata": {
        "id": "UJJ9iMFT_LVG",
        "colab_type": "code",
        "outputId": "7431b02d-2287-4317-ec4a-cb084b230950",
        "colab": {
          "base_uri": "https://localhost:8080/",
          "height": 89
        }
      },
      "source": [
        "fruitFrame['year'] = 2016 \n",
        "\n",
        "print(fruitFrame)"
      ],
      "execution_count": 0,
      "outputs": [
        {
          "output_type": "stream",
          "text": [
            "   fruitPrice  num fruitName  year\n",
            "0        2500   10     apple  2016\n",
            "1        6000    3    cherry  2016\n",
            "2        1200    8      peer  2016\n"
          ],
          "name": "stdout"
        }
      ]
    },
    {
      "cell_type": "markdown",
      "metadata": {
        "id": "DjmEnFWR_hqJ",
        "colab_type": "text"
      },
      "source": [
        "Series로 컬럼 추가하기 "
      ]
    },
    {
      "cell_type": "code",
      "metadata": {
        "id": "3F1Vhmm8_hCI",
        "colab_type": "code",
        "outputId": "0113996e-6594-46b2-a395-79c511903bfb",
        "colab": {
          "base_uri": "https://localhost:8080/",
          "height": 89
        }
      },
      "source": [
        "variable =  pd.Series([4, 2], index = [0, 2]) \n",
        "fruitFrame['stock'] = variable \n",
        "\n",
        "print(fruitFrame) "
      ],
      "execution_count": 0,
      "outputs": [
        {
          "output_type": "stream",
          "text": [
            "   fruitPrice  num fruitName  year  stock\n",
            "0        2500   10     apple  2016    4.0\n",
            "1        6000    3    cherry  2016    NaN\n",
            "2        1200    8      peer  2016    2.0\n"
          ],
          "name": "stdout"
        }
      ]
    },
    {
      "cell_type": "markdown",
      "metadata": {
        "id": "rA1CjxrCkdoy",
        "colab_type": "text"
      },
      "source": [
        "**결측값 제거** <br>\n",
        "dropna(axis=0) -> 행 삭제 <br>\n",
        "dropna(axis=1) -> 열 삭제 <br>\n",
        "fillna() -> 결측 값 채우기"
      ]
    },
    {
      "cell_type": "code",
      "metadata": {
        "id": "ditOiimmj8Uz",
        "colab_type": "code",
        "outputId": "5cc592a4-f940-4cb8-c297-49395c68c879",
        "colab": {
          "base_uri": "https://localhost:8080/",
          "height": 142
        }
      },
      "source": [
        "fruitFrame.fillna(value=0)"
      ],
      "execution_count": 0,
      "outputs": [
        {
          "output_type": "execute_result",
          "data": {
            "text/html": [
              "<div>\n",
              "<style scoped>\n",
              "    .dataframe tbody tr th:only-of-type {\n",
              "        vertical-align: middle;\n",
              "    }\n",
              "\n",
              "    .dataframe tbody tr th {\n",
              "        vertical-align: top;\n",
              "    }\n",
              "\n",
              "    .dataframe thead th {\n",
              "        text-align: right;\n",
              "    }\n",
              "</style>\n",
              "<table border=\"1\" class=\"dataframe\">\n",
              "  <thead>\n",
              "    <tr style=\"text-align: right;\">\n",
              "      <th></th>\n",
              "      <th>fruitPrice</th>\n",
              "      <th>num</th>\n",
              "      <th>fruitName</th>\n",
              "      <th>year</th>\n",
              "      <th>stock</th>\n",
              "    </tr>\n",
              "  </thead>\n",
              "  <tbody>\n",
              "    <tr>\n",
              "      <th>0</th>\n",
              "      <td>2500</td>\n",
              "      <td>10</td>\n",
              "      <td>apple</td>\n",
              "      <td>2016</td>\n",
              "      <td>4.0</td>\n",
              "    </tr>\n",
              "    <tr>\n",
              "      <th>1</th>\n",
              "      <td>6000</td>\n",
              "      <td>3</td>\n",
              "      <td>cherry</td>\n",
              "      <td>2016</td>\n",
              "      <td>0.0</td>\n",
              "    </tr>\n",
              "    <tr>\n",
              "      <th>2</th>\n",
              "      <td>1200</td>\n",
              "      <td>8</td>\n",
              "      <td>peer</td>\n",
              "      <td>2016</td>\n",
              "      <td>2.0</td>\n",
              "    </tr>\n",
              "  </tbody>\n",
              "</table>\n",
              "</div>"
            ],
            "text/plain": [
              "   fruitPrice  num fruitName  year  stock\n",
              "0        2500   10     apple  2016    4.0\n",
              "1        6000    3    cherry  2016    0.0\n",
              "2        1200    8      peer  2016    2.0"
            ]
          },
          "metadata": {
            "tags": []
          },
          "execution_count": 34
        }
      ]
    },
    {
      "cell_type": "code",
      "metadata": {
        "id": "kFG8H9najp1l",
        "colab_type": "code",
        "outputId": "ed4d7940-6cd2-4817-e1c3-7f131dba0570",
        "colab": {
          "base_uri": "https://localhost:8080/",
          "height": 35
        }
      },
      "source": [
        ""
      ],
      "execution_count": 0,
      "outputs": [
        {
          "output_type": "execute_result",
          "data": {
            "text/plain": [
              "dtype('float64')"
            ]
          },
          "metadata": {
            "tags": []
          },
          "execution_count": 33
        }
      ]
    },
    {
      "cell_type": "markdown",
      "metadata": {
        "id": "2JFIMM1LkRbb",
        "colab_type": "text"
      },
      "source": [
        "**자료 다루기**<br>\n",
        " 데이터 구조의 항목 삭제 <br>\n",
        " DataFrame row 삭제하기\n"
      ]
    },
    {
      "cell_type": "code",
      "metadata": {
        "id": "ZZU0F8oikLCR",
        "colab_type": "code",
        "outputId": "574c34f6-68e3-4123-cde8-7c5bdf0a4299",
        "colab": {
          "base_uri": "https://localhost:8080/",
          "height": 233
        }
      },
      "source": [
        "fruitData = {'fruitName' : ['apple', 'cherry', 'peer'],\n",
        "             'fruitPrice' : [2500, 6000, 1200], \n",
        "             'num' : [10, 3, 8]} \n",
        "\n",
        "fruitName = fruitData['fruitName'] \n",
        "\n",
        "fruitFrame = pd.DataFrame(fruitData, \n",
        "                          index = fruitName, \n",
        "                          columns = ['fruitPrice', 'num']) \n",
        "\n",
        "fruitFrame2 = fruitFrame.drop(['apple', 'cherry']) \n",
        "\n",
        "fruitFrame3 = fruitFrame.drop(['num'], axis= 1)\n",
        "\n",
        "print(fruitFrame,'\\n') \n",
        "print(fruitFrame2, '\\n') \n",
        "print(fruitFrame3)"
      ],
      "execution_count": 0,
      "outputs": [
        {
          "output_type": "stream",
          "text": [
            "        fruitPrice  num\n",
            "apple         2500   10\n",
            "cherry        6000    3\n",
            "peer          1200    8 \n",
            "\n",
            "      fruitPrice  num\n",
            "peer        1200    8 \n",
            "\n",
            "        fruitPrice\n",
            "apple         2500\n",
            "cherry        6000\n",
            "peer          1200\n"
          ],
          "name": "stdout"
        }
      ]
    },
    {
      "cell_type": "markdown",
      "metadata": {
        "id": "CI_PbDUBpI2Q",
        "colab_type": "text"
      },
      "source": [
        "DataFrame row 추가하기"
      ]
    },
    {
      "cell_type": "code",
      "metadata": {
        "id": "c6ytzEAIn8xX",
        "colab_type": "code",
        "outputId": "4f376f12-8046-49d7-f613-9e82da71afb2",
        "colab": {
          "base_uri": "https://localhost:8080/",
          "height": 107
        }
      },
      "source": [
        "fruitFrame2.loc[0, 'num'] = 8\n",
        "\n",
        "fruitFrame2.loc[1] = [2000, 3]\n",
        "\n",
        "fruitFrame2.loc[2] = {'num':2, 'fruitPrice':1234 }\n",
        "\n",
        "print(fruitFrame2)"
      ],
      "execution_count": 0,
      "outputs": [
        {
          "output_type": "stream",
          "text": [
            "      fruitPrice  num\n",
            "peer      1200.0  8.0\n",
            "0            NaN  8.0\n",
            "1         2000.0  3.0\n",
            "2         1234.0  2.0\n"
          ],
          "name": "stdout"
        }
      ]
    },
    {
      "cell_type": "markdown",
      "metadata": {
        "id": "b2kztz1_tIB5",
        "colab_type": "text"
      },
      "source": [
        "특정 항목 추출하기"
      ]
    },
    {
      "cell_type": "code",
      "metadata": {
        "id": "ukUO1kj1r5Ey",
        "colab_type": "code",
        "outputId": "6442578c-b05e-4b9c-b051-1905a573aed1",
        "colab": {
          "base_uri": "https://localhost:8080/",
          "height": 143
        }
      },
      "source": [
        "print(fruitFrame['fruitPrice'], '\\n') # fruitPrice만 출력\n",
        "print(fruitFrame[:1]) # apple과 cherry 인덱스만 출력\n"
      ],
      "execution_count": 0,
      "outputs": [
        {
          "output_type": "stream",
          "text": [
            "apple     2500\n",
            "cherry    6000\n",
            "peer      1200\n",
            "Name: fruitPrice, dtype: int64 \n",
            "\n",
            "       fruitPrice  num\n",
            "apple        2500   10\n"
          ],
          "name": "stdout"
        }
      ]
    },
    {
      "cell_type": "markdown",
      "metadata": {
        "id": "lMFc1W3Sa4Pd",
        "colab_type": "text"
      },
      "source": [
        "형 변환"
      ]
    },
    {
      "cell_type": "code",
      "metadata": {
        "id": "LTPEVYa0wPVk",
        "colab_type": "code",
        "outputId": "786f468e-669f-46fe-e8f9-8ddcbcc42531",
        "colab": {
          "base_uri": "https://localhost:8080/",
          "height": 53
        }
      },
      "source": [
        "print(fruitFrame['fruitPrice'].dtype)\n",
        "\n",
        "print(fruitFrame['fruitPrice'].astype('float').dtype)"
      ],
      "execution_count": 0,
      "outputs": [
        {
          "output_type": "stream",
          "text": [
            "int64\n",
            "float64\n"
          ],
          "name": "stdout"
        }
      ]
    },
    {
      "cell_type": "markdown",
      "metadata": {
        "id": "kDdslTsFdTzR",
        "colab_type": "text"
      },
      "source": [
        "DataFrame 정렬하기"
      ]
    },
    {
      "cell_type": "code",
      "metadata": {
        "id": "3dTa4KlScGXN",
        "colab_type": "code",
        "outputId": "551cbf30-e75a-4765-9be9-654ad7800118",
        "colab": {
          "base_uri": "https://localhost:8080/",
          "height": 179
        }
      },
      "source": [
        "print(fruitFrame.sort_values(['num']), '\\n') \n",
        "print(fruitFrame.sort_values(['num'], ascending = False) )"
      ],
      "execution_count": 0,
      "outputs": [
        {
          "output_type": "stream",
          "text": [
            "        fruitPrice  num\n",
            "cherry        6000    3\n",
            "peer          1200    8\n",
            "apple         2500   10 \n",
            "\n",
            "        fruitPrice  num\n",
            "apple         2500   10\n",
            "peer          1200    8\n",
            "cherry        6000    3\n"
          ],
          "name": "stdout"
        }
      ]
    },
    {
      "cell_type": "markdown",
      "metadata": {
        "id": "BC8JW1rNlu61",
        "colab_type": "text"
      },
      "source": [
        "# DATAFRAME 통계\n",
        "\n",
        "\n",
        "\n"
      ]
    },
    {
      "cell_type": "code",
      "metadata": {
        "id": "amSSp5qEgCYM",
        "colab_type": "code",
        "outputId": "6aa60687-8e99-4519-fd41-4d7ba0be482b",
        "colab": {
          "base_uri": "https://localhost:8080/",
          "height": 297
        }
      },
      "source": [
        "fruitFrame.describe()"
      ],
      "execution_count": 0,
      "outputs": [
        {
          "output_type": "execute_result",
          "data": {
            "text/html": [
              "<div>\n",
              "<style scoped>\n",
              "    .dataframe tbody tr th:only-of-type {\n",
              "        vertical-align: middle;\n",
              "    }\n",
              "\n",
              "    .dataframe tbody tr th {\n",
              "        vertical-align: top;\n",
              "    }\n",
              "\n",
              "    .dataframe thead th {\n",
              "        text-align: right;\n",
              "    }\n",
              "</style>\n",
              "<table border=\"1\" class=\"dataframe\">\n",
              "  <thead>\n",
              "    <tr style=\"text-align: right;\">\n",
              "      <th></th>\n",
              "      <th>fruitPrice</th>\n",
              "      <th>num</th>\n",
              "    </tr>\n",
              "  </thead>\n",
              "  <tbody>\n",
              "    <tr>\n",
              "      <th>count</th>\n",
              "      <td>3.000000</td>\n",
              "      <td>3.000000</td>\n",
              "    </tr>\n",
              "    <tr>\n",
              "      <th>mean</th>\n",
              "      <td>3233.333333</td>\n",
              "      <td>7.000000</td>\n",
              "    </tr>\n",
              "    <tr>\n",
              "      <th>std</th>\n",
              "      <td>2482.606158</td>\n",
              "      <td>3.605551</td>\n",
              "    </tr>\n",
              "    <tr>\n",
              "      <th>min</th>\n",
              "      <td>1200.000000</td>\n",
              "      <td>3.000000</td>\n",
              "    </tr>\n",
              "    <tr>\n",
              "      <th>25%</th>\n",
              "      <td>1850.000000</td>\n",
              "      <td>5.500000</td>\n",
              "    </tr>\n",
              "    <tr>\n",
              "      <th>50%</th>\n",
              "      <td>2500.000000</td>\n",
              "      <td>8.000000</td>\n",
              "    </tr>\n",
              "    <tr>\n",
              "      <th>75%</th>\n",
              "      <td>4250.000000</td>\n",
              "      <td>9.000000</td>\n",
              "    </tr>\n",
              "    <tr>\n",
              "      <th>max</th>\n",
              "      <td>6000.000000</td>\n",
              "      <td>10.000000</td>\n",
              "    </tr>\n",
              "  </tbody>\n",
              "</table>\n",
              "</div>"
            ],
            "text/plain": [
              "        fruitPrice        num\n",
              "count     3.000000   3.000000\n",
              "mean   3233.333333   7.000000\n",
              "std    2482.606158   3.605551\n",
              "min    1200.000000   3.000000\n",
              "25%    1850.000000   5.500000\n",
              "50%    2500.000000   8.000000\n",
              "75%    4250.000000   9.000000\n",
              "max    6000.000000  10.000000"
            ]
          },
          "metadata": {
            "tags": []
          },
          "execution_count": 22
        }
      ]
    },
    {
      "cell_type": "markdown",
      "metadata": {
        "id": "Cq5jP7rMmRNS",
        "colab_type": "text"
      },
      "source": [
        "# 실 데이터 활용\n",
        "구글 드라이브 연동"
      ]
    },
    {
      "cell_type": "code",
      "metadata": {
        "id": "OLh-7hUQmQr2",
        "colab_type": "code",
        "outputId": "029afe5b-3783-42e5-e723-240cc73f6bc0",
        "colab": {
          "base_uri": "https://localhost:8080/",
          "height": 127
        }
      },
      "source": [
        "from google.colab import drive\n",
        "import pandas as pd\n",
        "drive.mount('/content/gdrive')"
      ],
      "execution_count": 0,
      "outputs": [
        {
          "output_type": "stream",
          "text": [
            "Go to this URL in a browser: https://accounts.google.com/o/oauth2/auth?client_id=947318989803-6bn6qk8qdgf4n4g3pfee6491hc0brc4i.apps.googleusercontent.com&redirect_uri=urn%3Aietf%3Awg%3Aoauth%3A2.0%3Aoob&scope=email%20https%3A%2F%2Fwww.googleapis.com%2Fauth%2Fdocs.test%20https%3A%2F%2Fwww.googleapis.com%2Fauth%2Fdrive%20https%3A%2F%2Fwww.googleapis.com%2Fauth%2Fdrive.photos.readonly%20https%3A%2F%2Fwww.googleapis.com%2Fauth%2Fpeopleapi.readonly&response_type=code\n",
            "\n",
            "Enter your authorization code:\n",
            "··········\n",
            "Mounted at /content/gdrive\n"
          ],
          "name": "stdout"
        }
      ]
    },
    {
      "cell_type": "markdown",
      "metadata": {
        "id": "-I38OR0eybxy",
        "colab_type": "text"
      },
      "source": [
        "/content/gdrive/My Drive 까지는 고정"
      ]
    },
    {
      "cell_type": "code",
      "metadata": {
        "id": "S89mtuKPm4VT",
        "colab_type": "code",
        "colab": {}
      },
      "source": [
        "DATA_PATH = '/content/gdrive/My Drive/test'\n",
        "csvName = 'question.csv'"
      ],
      "execution_count": 0,
      "outputs": []
    },
    {
      "cell_type": "markdown",
      "metadata": {
        "id": "cvOa6dIk97RM",
        "colab_type": "text"
      },
      "source": [
        "실습할 question.csv 파일의 컬럼은 question, answer, check 총 3개로 구성된 데이터"
      ]
    },
    {
      "cell_type": "code",
      "metadata": {
        "id": "A8mhObQoyaHd",
        "colab_type": "code",
        "colab": {}
      },
      "source": [
        "df = pd.read_csv(DATA_PATH + '/'+csvName,\n",
        "                              sep=',',\n",
        "                              names=['question', 'answer', 'check']\n",
        "                             )"
      ],
      "execution_count": 0,
      "outputs": []
    },
    {
      "cell_type": "markdown",
      "metadata": {
        "id": "JO1EBTrm18RN",
        "colab_type": "text"
      },
      "source": [
        "head()를 사용하게 되면 dataframe에 상위 5개를 출력함 ( default = 5 ) \n",
        "<br>head(10) 시 10개 출력"
      ]
    },
    {
      "cell_type": "code",
      "metadata": {
        "id": "FWA59_Ra1SkA",
        "colab_type": "code",
        "outputId": "1a5d637d-1e78-46d8-e69e-c5d3a1c302d1",
        "colab": {
          "base_uri": "https://localhost:8080/",
          "height": 195
        }
      },
      "source": [
        "df.head()"
      ],
      "execution_count": 0,
      "outputs": [
        {
          "output_type": "execute_result",
          "data": {
            "text/html": [
              "<div>\n",
              "<style scoped>\n",
              "    .dataframe tbody tr th:only-of-type {\n",
              "        vertical-align: middle;\n",
              "    }\n",
              "\n",
              "    .dataframe tbody tr th {\n",
              "        vertical-align: top;\n",
              "    }\n",
              "\n",
              "    .dataframe thead th {\n",
              "        text-align: right;\n",
              "    }\n",
              "</style>\n",
              "<table border=\"1\" class=\"dataframe\">\n",
              "  <thead>\n",
              "    <tr style=\"text-align: right;\">\n",
              "      <th></th>\n",
              "      <th>question</th>\n",
              "      <th>answer</th>\n",
              "      <th>check</th>\n",
              "    </tr>\n",
              "  </thead>\n",
              "  <tbody>\n",
              "    <tr>\n",
              "      <th>0</th>\n",
              "      <td>대표적 협상 실패 사례로 꼽히는 지난 98년 한일 어업협정의 경우, 협상의 성패를 ...</td>\n",
              "      <td>정보</td>\n",
              "      <td>Y</td>\n",
              "    </tr>\n",
              "    <tr>\n",
              "      <th>1</th>\n",
              "      <td>협상이 시작할 무렵, 공통의 관심사나 적절한 유머 등을 통해 상대방과 나 사이의 차...</td>\n",
              "      <td>Ice breaking</td>\n",
              "      <td>Y</td>\n",
              "    </tr>\n",
              "    <tr>\n",
              "      <th>2</th>\n",
              "      <td>협상을 시작하기에 앞서 ‘무엇을’, ‘어떤 순서로’ 협의할 것인가를 결정하는 것이 ...</td>\n",
              "      <td>Agenda</td>\n",
              "      <td>Y</td>\n",
              "    </tr>\n",
              "    <tr>\n",
              "      <th>3</th>\n",
              "      <td>대표적 협상 실패 사례로 꼽히는 지난 98년 한일 어업협정의 경우, 협상의 성패를 ...</td>\n",
              "      <td>정보</td>\n",
              "      <td>Y</td>\n",
              "    </tr>\n",
              "    <tr>\n",
              "      <th>4</th>\n",
              "      <td>협상이 시작할 무렵, 공통의 관심사나 적절한 유머 등을 통해 상대방과 나 사이의 차...</td>\n",
              "      <td>icebreaking(얼음깨기)</td>\n",
              "      <td>Y</td>\n",
              "    </tr>\n",
              "  </tbody>\n",
              "</table>\n",
              "</div>"
            ],
            "text/plain": [
              "                                            question             answer check\n",
              "0  대표적 협상 실패 사례로 꼽히는 지난 98년 한일 어업협정의 경우, 협상의 성패를 ...                 정보     Y\n",
              "1  협상이 시작할 무렵, 공통의 관심사나 적절한 유머 등을 통해 상대방과 나 사이의 차...       Ice breaking     Y\n",
              "2  협상을 시작하기에 앞서 ‘무엇을’, ‘어떤 순서로’ 협의할 것인가를 결정하는 것이 ...             Agenda     Y\n",
              "3  대표적 협상 실패 사례로 꼽히는 지난 98년 한일 어업협정의 경우, 협상의 성패를 ...                 정보     Y\n",
              "4  협상이 시작할 무렵, 공통의 관심사나 적절한 유머 등을 통해 상대방과 나 사이의 차...  icebreaking(얼음깨기)     Y"
            ]
          },
          "metadata": {
            "tags": []
          },
          "execution_count": 10
        }
      ]
    },
    {
      "cell_type": "markdown",
      "metadata": {
        "id": "WDIvIKed2P_Q",
        "colab_type": "text"
      },
      "source": [
        "tail()은 그 반대로 하위 5개를 출력함"
      ]
    },
    {
      "cell_type": "code",
      "metadata": {
        "id": "xF1V5S661fqp",
        "colab_type": "code",
        "outputId": "c5dc0d46-0acf-41be-f61d-8949020e9e37",
        "colab": {
          "base_uri": "https://localhost:8080/",
          "height": 195
        }
      },
      "source": [
        "df.tail()"
      ],
      "execution_count": 0,
      "outputs": [
        {
          "output_type": "execute_result",
          "data": {
            "text/html": [
              "<div>\n",
              "<style scoped>\n",
              "    .dataframe tbody tr th:only-of-type {\n",
              "        vertical-align: middle;\n",
              "    }\n",
              "\n",
              "    .dataframe tbody tr th {\n",
              "        vertical-align: top;\n",
              "    }\n",
              "\n",
              "    .dataframe thead th {\n",
              "        text-align: right;\n",
              "    }\n",
              "</style>\n",
              "<table border=\"1\" class=\"dataframe\">\n",
              "  <thead>\n",
              "    <tr style=\"text-align: right;\">\n",
              "      <th></th>\n",
              "      <th>question</th>\n",
              "      <th>answer</th>\n",
              "      <th>check</th>\n",
              "    </tr>\n",
              "  </thead>\n",
              "  <tbody>\n",
              "    <tr>\n",
              "      <th>261961</th>\n",
              "      <td>다음을 읽고 (     )안에 알맞은 온도를 쓰시오. 풀무원은 출고 전 두부의 중심...</td>\n",
              "      <td>5</td>\n",
              "      <td>Y</td>\n",
              "    </tr>\n",
              "    <tr>\n",
              "      <th>261962</th>\n",
              "      <td>탱탱 비빔 쫄면의 특허 받은 면은 어떤 면인가요?  OO안에 알맞은 말을 쓰시오. ...</td>\n",
              "      <td>바람</td>\n",
              "      <td>Y</td>\n",
              "    </tr>\n",
              "    <tr>\n",
              "      <th>261963</th>\n",
              "      <td>꼬불꼬불 물냉면은 면을 (     )분 삶아야 하나요?  (     )안에 올바른 ...</td>\n",
              "      <td>3</td>\n",
              "      <td>N</td>\n",
              "    </tr>\n",
              "    <tr>\n",
              "      <th>261964</th>\n",
              "      <td>겨울무와 무청까지 함께 담가 더욱 새콤하고 시원한 물냉면은 OOOOO물냉면이다. O...</td>\n",
              "      <td>겨울동치미</td>\n",
              "      <td>N</td>\n",
              "    </tr>\n",
              "    <tr>\n",
              "      <th>261965</th>\n",
              "      <td>겨울 동치미 물냉면은 면을 (     )초 삶아야 하나요?  (     )안에 올바...</td>\n",
              "      <td>30</td>\n",
              "      <td>N</td>\n",
              "    </tr>\n",
              "  </tbody>\n",
              "</table>\n",
              "</div>"
            ],
            "text/plain": [
              "                                                 question answer check\n",
              "261961  다음을 읽고 (     )안에 알맞은 온도를 쓰시오. 풀무원은 출고 전 두부의 중심...      5     Y\n",
              "261962  탱탱 비빔 쫄면의 특허 받은 면은 어떤 면인가요?  OO안에 알맞은 말을 쓰시오. ...     바람     Y\n",
              "261963  꼬불꼬불 물냉면은 면을 (     )분 삶아야 하나요?  (     )안에 올바른 ...      3     N\n",
              "261964  겨울무와 무청까지 함께 담가 더욱 새콤하고 시원한 물냉면은 OOOOO물냉면이다. O...  겨울동치미     N\n",
              "261965  겨울 동치미 물냉면은 면을 (     )초 삶아야 하나요?  (     )안에 올바...     30     N"
            ]
          },
          "metadata": {
            "tags": []
          },
          "execution_count": 8
        }
      ]
    },
    {
      "cell_type": "markdown",
      "metadata": {
        "id": "kDhuR40M7_JD",
        "colab_type": "text"
      },
      "source": [
        "원하는 데이터 출력"
      ]
    },
    {
      "cell_type": "code",
      "metadata": {
        "id": "gd2lB7Pi2sMo",
        "colab_type": "code",
        "outputId": "89d05b66-e708-4a8c-f3fe-2b2536eaea58",
        "colab": {
          "base_uri": "https://localhost:8080/",
          "height": 343
        }
      },
      "source": [
        "df[df['check'] == 'Y'].tail(10)"
      ],
      "execution_count": 0,
      "outputs": [
        {
          "output_type": "execute_result",
          "data": {
            "text/html": [
              "<div>\n",
              "<style scoped>\n",
              "    .dataframe tbody tr th:only-of-type {\n",
              "        vertical-align: middle;\n",
              "    }\n",
              "\n",
              "    .dataframe tbody tr th {\n",
              "        vertical-align: top;\n",
              "    }\n",
              "\n",
              "    .dataframe thead th {\n",
              "        text-align: right;\n",
              "    }\n",
              "</style>\n",
              "<table border=\"1\" class=\"dataframe\">\n",
              "  <thead>\n",
              "    <tr style=\"text-align: right;\">\n",
              "      <th></th>\n",
              "      <th>question</th>\n",
              "      <th>answer</th>\n",
              "      <th>check</th>\n",
              "    </tr>\n",
              "  </thead>\n",
              "  <tbody>\n",
              "    <tr>\n",
              "      <th>261946</th>\n",
              "      <td>온도 관리에 대한 문제이다 . (     )안에 알맞은 단어를 채우시오. 보이지 않...</td>\n",
              "      <td>온도</td>\n",
              "      <td>Y</td>\n",
              "    </tr>\n",
              "    <tr>\n",
              "      <th>261947</th>\n",
              "      <td>탱탱 비빔 쫄면의 특허 받은 면은 어떤 면인가요?  OO안에 알맞은 말을 쓰시오. ...</td>\n",
              "      <td>바람</td>\n",
              "      <td>Y</td>\n",
              "    </tr>\n",
              "    <tr>\n",
              "      <th>261951</th>\n",
              "      <td>온도 관리에 대한 문제이다 . (     )안에 알맞은 단어를 채우시오. 보이지 않...</td>\n",
              "      <td>온도</td>\n",
              "      <td>Y</td>\n",
              "    </tr>\n",
              "    <tr>\n",
              "      <th>261952</th>\n",
              "      <td>다음을 읽고 (     )안에 알맞은 온도를 쓰시오. 풀무원은 출고 전 두부의 중심...</td>\n",
              "      <td>5</td>\n",
              "      <td>Y</td>\n",
              "    </tr>\n",
              "    <tr>\n",
              "      <th>261953</th>\n",
              "      <td>탱탱 비빔 쫄면의 특허 받은 면은 어떤 면인가요?  OO안에 알맞은 말을 쓰시오. ...</td>\n",
              "      <td>바람</td>\n",
              "      <td>Y</td>\n",
              "    </tr>\n",
              "    <tr>\n",
              "      <th>261956</th>\n",
              "      <td>온도 관리에 대한 문제이다 . (     )안에 알맞은 단어를 채우시오. 보이지 않...</td>\n",
              "      <td>온도</td>\n",
              "      <td>Y</td>\n",
              "    </tr>\n",
              "    <tr>\n",
              "      <th>261957</th>\n",
              "      <td>다음을 읽고 (     )안에 알맞은 온도를 쓰시오. 풀무원은 출고 전 두부의 중심...</td>\n",
              "      <td>5</td>\n",
              "      <td>Y</td>\n",
              "    </tr>\n",
              "    <tr>\n",
              "      <th>261958</th>\n",
              "      <td>탱탱 비빔 쫄면의 특허 받은 면은 어떤 면인가요?  OO안에 알맞은 말을 쓰시오. ...</td>\n",
              "      <td>바람</td>\n",
              "      <td>Y</td>\n",
              "    </tr>\n",
              "    <tr>\n",
              "      <th>261961</th>\n",
              "      <td>다음을 읽고 (     )안에 알맞은 온도를 쓰시오. 풀무원은 출고 전 두부의 중심...</td>\n",
              "      <td>5</td>\n",
              "      <td>Y</td>\n",
              "    </tr>\n",
              "    <tr>\n",
              "      <th>261962</th>\n",
              "      <td>탱탱 비빔 쫄면의 특허 받은 면은 어떤 면인가요?  OO안에 알맞은 말을 쓰시오. ...</td>\n",
              "      <td>바람</td>\n",
              "      <td>Y</td>\n",
              "    </tr>\n",
              "  </tbody>\n",
              "</table>\n",
              "</div>"
            ],
            "text/plain": [
              "                                                 question answer check\n",
              "261946  온도 관리에 대한 문제이다 . (     )안에 알맞은 단어를 채우시오. 보이지 않...     온도     Y\n",
              "261947  탱탱 비빔 쫄면의 특허 받은 면은 어떤 면인가요?  OO안에 알맞은 말을 쓰시오. ...     바람     Y\n",
              "261951  온도 관리에 대한 문제이다 . (     )안에 알맞은 단어를 채우시오. 보이지 않...     온도     Y\n",
              "261952  다음을 읽고 (     )안에 알맞은 온도를 쓰시오. 풀무원은 출고 전 두부의 중심...      5     Y\n",
              "261953  탱탱 비빔 쫄면의 특허 받은 면은 어떤 면인가요?  OO안에 알맞은 말을 쓰시오. ...     바람     Y\n",
              "261956  온도 관리에 대한 문제이다 . (     )안에 알맞은 단어를 채우시오. 보이지 않...     온도     Y\n",
              "261957  다음을 읽고 (     )안에 알맞은 온도를 쓰시오. 풀무원은 출고 전 두부의 중심...      5     Y\n",
              "261958  탱탱 비빔 쫄면의 특허 받은 면은 어떤 면인가요?  OO안에 알맞은 말을 쓰시오. ...     바람     Y\n",
              "261961  다음을 읽고 (     )안에 알맞은 온도를 쓰시오. 풀무원은 출고 전 두부의 중심...      5     Y\n",
              "261962  탱탱 비빔 쫄면의 특허 받은 면은 어떤 면인가요?  OO안에 알맞은 말을 쓰시오. ...     바람     Y"
            ]
          },
          "metadata": {
            "tags": []
          },
          "execution_count": 14
        }
      ]
    },
    {
      "cell_type": "code",
      "metadata": {
        "id": "NI-lkJQ96qbT",
        "colab_type": "code",
        "colab": {}
      },
      "source": [
        "df[df.question.str.contains('온도')].tail(10)"
      ],
      "execution_count": 0,
      "outputs": []
    },
    {
      "cell_type": "markdown",
      "metadata": {
        "id": "j7HLEJid8kzl",
        "colab_type": "text"
      },
      "source": [
        "컬럼 이름 바꾸기 <br>\n",
        "rename__df = df.rename(columns = {'Column Name': 'New Name'})"
      ]
    },
    {
      "cell_type": "markdown",
      "metadata": {
        "id": "RflTpw1g9GT2",
        "colab_type": "text"
      },
      "source": [
        "# 두 개의 DataFrame 합치기 "
      ]
    },
    {
      "cell_type": "markdown",
      "metadata": {
        "id": "J5wWWauL93pW",
        "colab_type": "text"
      },
      "source": [
        "pandas 의 병합 방법<br>\n",
        "merge : 컬럼의 병합<br>\n",
        "concat : index를 병합\n"
      ]
    },
    {
      "cell_type": "code",
      "metadata": {
        "id": "Sp0nStv--XGS",
        "colab_type": "code",
        "colab": {}
      },
      "source": [
        "csvName = 'question_index.csv'"
      ],
      "execution_count": 0,
      "outputs": []
    },
    {
      "cell_type": "code",
      "metadata": {
        "id": "MI3MVVQh9Fid",
        "colab_type": "code",
        "colab": {}
      },
      "source": [
        "df2 = pd.read_csv(DATA_PATH + '/'+csvName,\n",
        "                              sep=',', header=0,\n",
        "                              names=['question_idx', 'question']\n",
        "                             )"
      ],
      "execution_count": 0,
      "outputs": []
    },
    {
      "cell_type": "code",
      "metadata": {
        "id": "CfOXXthz7rxL",
        "colab_type": "code",
        "outputId": "d037f5ea-855e-4563-8b30-3f95d33ce2fe",
        "colab": {
          "base_uri": "https://localhost:8080/",
          "height": 204
        }
      },
      "source": [
        "df2 = pd.read_csv(DATA_PATH + '/'+csvName,\n",
        "                              sep=','\n",
        "                             )\n",
        "df2.head()"
      ],
      "execution_count": 0,
      "outputs": [
        {
          "output_type": "execute_result",
          "data": {
            "text/html": [
              "<div>\n",
              "<style scoped>\n",
              "    .dataframe tbody tr th:only-of-type {\n",
              "        vertical-align: middle;\n",
              "    }\n",
              "\n",
              "    .dataframe tbody tr th {\n",
              "        vertical-align: top;\n",
              "    }\n",
              "\n",
              "    .dataframe thead th {\n",
              "        text-align: right;\n",
              "    }\n",
              "</style>\n",
              "<table border=\"1\" class=\"dataframe\">\n",
              "  <thead>\n",
              "    <tr style=\"text-align: right;\">\n",
              "      <th></th>\n",
              "      <th>question_idx</th>\n",
              "      <th>question</th>\n",
              "    </tr>\n",
              "  </thead>\n",
              "  <tbody>\n",
              "    <tr>\n",
              "      <th>0</th>\n",
              "      <td>0</td>\n",
              "      <td>OO은 판매 현장뿐 아니라 생활속에서 어떤것과도 양보할 수 없는 최우선의 가치입니다...</td>\n",
              "    </tr>\n",
              "    <tr>\n",
              "      <th>1</th>\n",
              "      <td>1</td>\n",
              "      <td>안전 수칙으로 상품 취급기준 중  상품드는 기준에 대한 설명이다.  (     )에...</td>\n",
              "    </tr>\n",
              "    <tr>\n",
              "      <th>2</th>\n",
              "      <td>2</td>\n",
              "      <td>풀무원 직화짜장생면은 MSG를 사용하지 않고 (     )방식으로 볶아 짜장의 맛이...</td>\n",
              "    </tr>\n",
              "    <tr>\n",
              "      <th>3</th>\n",
              "      <td>3</td>\n",
              "      <td>계획의 운영에 대해서 매년 정기적으로 계획과 실적간의 차이를 비교해 그 시점에서 새...</td>\n",
              "    </tr>\n",
              "    <tr>\n",
              "      <th>4</th>\n",
              "      <td>4</td>\n",
              "      <td>하버드대학의 제임스 헤스켓(James Heskett ) 교수가 주창한 것으로, 직원...</td>\n",
              "    </tr>\n",
              "  </tbody>\n",
              "</table>\n",
              "</div>"
            ],
            "text/plain": [
              "   question_idx                                           question\n",
              "0             0  OO은 판매 현장뿐 아니라 생활속에서 어떤것과도 양보할 수 없는 최우선의 가치입니다...\n",
              "1             1  안전 수칙으로 상품 취급기준 중  상품드는 기준에 대한 설명이다.  (     )에...\n",
              "2             2  풀무원 직화짜장생면은 MSG를 사용하지 않고 (     )방식으로 볶아 짜장의 맛이...\n",
              "3             3  계획의 운영에 대해서 매년 정기적으로 계획과 실적간의 차이를 비교해 그 시점에서 새...\n",
              "4             4  하버드대학의 제임스 헤스켓(James Heskett ) 교수가 주창한 것으로, 직원..."
            ]
          },
          "metadata": {
            "tags": []
          },
          "execution_count": 6
        }
      ]
    },
    {
      "cell_type": "code",
      "metadata": {
        "id": "X_rkg3lgCbFU",
        "colab_type": "code",
        "colab": {}
      },
      "source": [
        "all_df = pd.merge(df, df2)"
      ],
      "execution_count": 0,
      "outputs": []
    },
    {
      "cell_type": "code",
      "metadata": {
        "id": "yy42tkPZGMtg",
        "colab_type": "code",
        "outputId": "25d9b1ff-ecfc-417c-981f-9f70b37be261",
        "colab": {
          "base_uri": "https://localhost:8080/",
          "height": 195
        }
      },
      "source": [
        "all_df.head()"
      ],
      "execution_count": 0,
      "outputs": [
        {
          "output_type": "execute_result",
          "data": {
            "text/html": [
              "<div>\n",
              "<style scoped>\n",
              "    .dataframe tbody tr th:only-of-type {\n",
              "        vertical-align: middle;\n",
              "    }\n",
              "\n",
              "    .dataframe tbody tr th {\n",
              "        vertical-align: top;\n",
              "    }\n",
              "\n",
              "    .dataframe thead th {\n",
              "        text-align: right;\n",
              "    }\n",
              "</style>\n",
              "<table border=\"1\" class=\"dataframe\">\n",
              "  <thead>\n",
              "    <tr style=\"text-align: right;\">\n",
              "      <th></th>\n",
              "      <th>question</th>\n",
              "      <th>answer</th>\n",
              "      <th>check</th>\n",
              "      <th>question_idx</th>\n",
              "    </tr>\n",
              "  </thead>\n",
              "  <tbody>\n",
              "    <tr>\n",
              "      <th>0</th>\n",
              "      <td>현상이나 사물을 이해하는데 있어 독특한 규칙이나 사고의 체계를 무엇이라 하는가?</td>\n",
              "      <td>패러다임</td>\n",
              "      <td>Y</td>\n",
              "      <td>266</td>\n",
              "    </tr>\n",
              "    <tr>\n",
              "      <th>1</th>\n",
              "      <td>현상이나 사물을 이해하는데 있어 독특한 규칙이나 사고의 체계를 무엇이라 하는가?</td>\n",
              "      <td>패러다임</td>\n",
              "      <td>Y</td>\n",
              "      <td>266</td>\n",
              "    </tr>\n",
              "    <tr>\n",
              "      <th>2</th>\n",
              "      <td>현상이나 사물을 이해하는데 있어 독특한 규칙이나 사고의 체계를 무엇이라 하는가?</td>\n",
              "      <td>패러다임</td>\n",
              "      <td>Y</td>\n",
              "      <td>266</td>\n",
              "    </tr>\n",
              "    <tr>\n",
              "      <th>3</th>\n",
              "      <td>현상이나 사물을 이해하는데 있어 독특한 규칙이나 사고의 체계를 무엇이라 하는가?</td>\n",
              "      <td>패러다임</td>\n",
              "      <td>Y</td>\n",
              "      <td>266</td>\n",
              "    </tr>\n",
              "    <tr>\n",
              "      <th>4</th>\n",
              "      <td>현상이나 사물을 이해하는데 있어 독특한 규칙이나 사고의 체계를 무엇이라 하는가?</td>\n",
              "      <td>패러다임</td>\n",
              "      <td>Y</td>\n",
              "      <td>266</td>\n",
              "    </tr>\n",
              "  </tbody>\n",
              "</table>\n",
              "</div>"
            ],
            "text/plain": [
              "                                       question answer check  question_idx\n",
              "0  현상이나 사물을 이해하는데 있어 독특한 규칙이나 사고의 체계를 무엇이라 하는가?   패러다임     Y           266\n",
              "1  현상이나 사물을 이해하는데 있어 독특한 규칙이나 사고의 체계를 무엇이라 하는가?   패러다임     Y           266\n",
              "2  현상이나 사물을 이해하는데 있어 독특한 규칙이나 사고의 체계를 무엇이라 하는가?   패러다임     Y           266\n",
              "3  현상이나 사물을 이해하는데 있어 독특한 규칙이나 사고의 체계를 무엇이라 하는가?   패러다임     Y           266\n",
              "4  현상이나 사물을 이해하는데 있어 독특한 규칙이나 사고의 체계를 무엇이라 하는가?   패러다임     Y           266"
            ]
          },
          "metadata": {
            "tags": []
          },
          "execution_count": 17
        }
      ]
    },
    {
      "cell_type": "markdown",
      "metadata": {
        "id": "0R7NOXFdgL3n",
        "colab_type": "text"
      },
      "source": [
        "특정 열과 컬럼 출력"
      ]
    },
    {
      "cell_type": "code",
      "metadata": {
        "id": "0QAkZpCQGkR5",
        "colab_type": "code",
        "outputId": "282bce11-b9ac-499b-969e-9f2f70c7d16e",
        "colab": {
          "base_uri": "https://localhost:8080/",
          "height": 314
        }
      },
      "source": [
        "all_df.iloc[1:10, :3] #[ index , columns ]"
      ],
      "execution_count": 0,
      "outputs": [
        {
          "output_type": "execute_result",
          "data": {
            "text/html": [
              "<div>\n",
              "<style scoped>\n",
              "    .dataframe tbody tr th:only-of-type {\n",
              "        vertical-align: middle;\n",
              "    }\n",
              "\n",
              "    .dataframe tbody tr th {\n",
              "        vertical-align: top;\n",
              "    }\n",
              "\n",
              "    .dataframe thead th {\n",
              "        text-align: right;\n",
              "    }\n",
              "</style>\n",
              "<table border=\"1\" class=\"dataframe\">\n",
              "  <thead>\n",
              "    <tr style=\"text-align: right;\">\n",
              "      <th></th>\n",
              "      <th>question</th>\n",
              "      <th>answer</th>\n",
              "      <th>check</th>\n",
              "    </tr>\n",
              "  </thead>\n",
              "  <tbody>\n",
              "    <tr>\n",
              "      <th>1</th>\n",
              "      <td>현상이나 사물을 이해하는데 있어 독특한 규칙이나 사고의 체계를 무엇이라 하는가?</td>\n",
              "      <td>패러다임</td>\n",
              "      <td>Y</td>\n",
              "    </tr>\n",
              "    <tr>\n",
              "      <th>2</th>\n",
              "      <td>현상이나 사물을 이해하는데 있어 독특한 규칙이나 사고의 체계를 무엇이라 하는가?</td>\n",
              "      <td>패러다임</td>\n",
              "      <td>Y</td>\n",
              "    </tr>\n",
              "    <tr>\n",
              "      <th>3</th>\n",
              "      <td>현상이나 사물을 이해하는데 있어 독특한 규칙이나 사고의 체계를 무엇이라 하는가?</td>\n",
              "      <td>패러다임</td>\n",
              "      <td>Y</td>\n",
              "    </tr>\n",
              "    <tr>\n",
              "      <th>4</th>\n",
              "      <td>현상이나 사물을 이해하는데 있어 독특한 규칙이나 사고의 체계를 무엇이라 하는가?</td>\n",
              "      <td>패러다임</td>\n",
              "      <td>Y</td>\n",
              "    </tr>\n",
              "    <tr>\n",
              "      <th>5</th>\n",
              "      <td>현상이나 사물을 이해하는데 있어 독특한 규칙이나 사고의 체계를 무엇이라 하는가?</td>\n",
              "      <td>패러다임</td>\n",
              "      <td>Y</td>\n",
              "    </tr>\n",
              "    <tr>\n",
              "      <th>6</th>\n",
              "      <td>현상이나 사물을 이해하는데 있어 독특한 규칙이나 사고의 체계를 무엇이라 하는가?</td>\n",
              "      <td>정답 모름</td>\n",
              "      <td>N</td>\n",
              "    </tr>\n",
              "    <tr>\n",
              "      <th>7</th>\n",
              "      <td>현상이나 사물을 이해하는데 있어 독특한 규칙이나 사고의 체계를 무엇이라 하는가?</td>\n",
              "      <td>패러다임</td>\n",
              "      <td>Y</td>\n",
              "    </tr>\n",
              "    <tr>\n",
              "      <th>8</th>\n",
              "      <td>현상이나 사물을 이해하는데 있어 독특한 규칙이나 사고의 체계를 무엇이라 하는가?</td>\n",
              "      <td>패러다임</td>\n",
              "      <td>Y</td>\n",
              "    </tr>\n",
              "    <tr>\n",
              "      <th>9</th>\n",
              "      <td>현상이나 사물을 이해하는데 있어 독특한 규칙이나 사고의 체계를 무엇이라 하는가?</td>\n",
              "      <td>정답모름</td>\n",
              "      <td>N</td>\n",
              "    </tr>\n",
              "  </tbody>\n",
              "</table>\n",
              "</div>"
            ],
            "text/plain": [
              "                                       question answer check\n",
              "1  현상이나 사물을 이해하는데 있어 독특한 규칙이나 사고의 체계를 무엇이라 하는가?   패러다임     Y\n",
              "2  현상이나 사물을 이해하는데 있어 독특한 규칙이나 사고의 체계를 무엇이라 하는가?   패러다임     Y\n",
              "3  현상이나 사물을 이해하는데 있어 독특한 규칙이나 사고의 체계를 무엇이라 하는가?   패러다임     Y\n",
              "4  현상이나 사물을 이해하는데 있어 독특한 규칙이나 사고의 체계를 무엇이라 하는가?   패러다임     Y\n",
              "5  현상이나 사물을 이해하는데 있어 독특한 규칙이나 사고의 체계를 무엇이라 하는가?   패러다임     Y\n",
              "6  현상이나 사물을 이해하는데 있어 독특한 규칙이나 사고의 체계를 무엇이라 하는가?  정답 모름     N\n",
              "7  현상이나 사물을 이해하는데 있어 독특한 규칙이나 사고의 체계를 무엇이라 하는가?   패러다임     Y\n",
              "8  현상이나 사물을 이해하는데 있어 독특한 규칙이나 사고의 체계를 무엇이라 하는가?   패러다임     Y\n",
              "9  현상이나 사물을 이해하는데 있어 독특한 규칙이나 사고의 체계를 무엇이라 하는가?   정답모름     N"
            ]
          },
          "metadata": {
            "tags": []
          },
          "execution_count": 32
        }
      ]
    },
    {
      "cell_type": "markdown",
      "metadata": {
        "id": "HodyJ0Y-gYTe",
        "colab_type": "text"
      },
      "source": [
        "원하는 데이터들의 특정 열 출력"
      ]
    },
    {
      "cell_type": "code",
      "metadata": {
        "id": "IwE5mYWHgXkI",
        "colab_type": "code",
        "outputId": "013f5a82-59b8-4faf-ddc0-703e5ecd1ec9",
        "colab": {
          "base_uri": "https://localhost:8080/",
          "height": 195
        }
      },
      "source": [
        "  df[df.question.str.contains('온도')].iloc[:5, 0:3]"
      ],
      "execution_count": 0,
      "outputs": [
        {
          "output_type": "execute_result",
          "data": {
            "text/html": [
              "<div>\n",
              "<style scoped>\n",
              "    .dataframe tbody tr th:only-of-type {\n",
              "        vertical-align: middle;\n",
              "    }\n",
              "\n",
              "    .dataframe tbody tr th {\n",
              "        vertical-align: top;\n",
              "    }\n",
              "\n",
              "    .dataframe thead th {\n",
              "        text-align: right;\n",
              "    }\n",
              "</style>\n",
              "<table border=\"1\" class=\"dataframe\">\n",
              "  <thead>\n",
              "    <tr style=\"text-align: right;\">\n",
              "      <th></th>\n",
              "      <th>question</th>\n",
              "      <th>answer</th>\n",
              "      <th>check</th>\n",
              "    </tr>\n",
              "  </thead>\n",
              "  <tbody>\n",
              "    <tr>\n",
              "      <th>51338</th>\n",
              "      <td>( )은(는) 물체의 물리적 상태(Phase)를 바꾸거나(고체, 액체, 기체), 물...</td>\n",
              "      <td>상변화</td>\n",
              "      <td>Y</td>\n",
              "    </tr>\n",
              "    <tr>\n",
              "      <th>51343</th>\n",
              "      <td>( )은(는) 물체의 물리적 상태(Phase)를 바꾸거나(고체, 액체, 기체), 물...</td>\n",
              "      <td>물체의 물리적, 화학적 상태를 변형</td>\n",
              "      <td>Y</td>\n",
              "    </tr>\n",
              "    <tr>\n",
              "      <th>88479</th>\n",
              "      <td>( )은(는) 물체의 물리적 상태(Phase)를 바꾸거나(고체, 액체, 기체), 물...</td>\n",
              "      <td>물성치변화</td>\n",
              "      <td>Y</td>\n",
              "    </tr>\n",
              "    <tr>\n",
              "      <th>88544</th>\n",
              "      <td>( )은(는) 물체의 물리적 상태(Phase)를 바꾸거나(고체, 액체, 기체), 물...</td>\n",
              "      <td>발명원리 35 물성치 변화(Changing Properties)</td>\n",
              "      <td>Y</td>\n",
              "    </tr>\n",
              "    <tr>\n",
              "      <th>88629</th>\n",
              "      <td>( )은(는) 물체의 물리적 상태(Phase)를 바꾸거나(고체, 액체, 기체), 물...</td>\n",
              "      <td>파리미터 변경</td>\n",
              "      <td>Y</td>\n",
              "    </tr>\n",
              "  </tbody>\n",
              "</table>\n",
              "</div>"
            ],
            "text/plain": [
              "                                                question  ... check\n",
              "51338  ( )은(는) 물체의 물리적 상태(Phase)를 바꾸거나(고체, 액체, 기체), 물...  ...     Y\n",
              "51343  ( )은(는) 물체의 물리적 상태(Phase)를 바꾸거나(고체, 액체, 기체), 물...  ...     Y\n",
              "88479  ( )은(는) 물체의 물리적 상태(Phase)를 바꾸거나(고체, 액체, 기체), 물...  ...     Y\n",
              "88544  ( )은(는) 물체의 물리적 상태(Phase)를 바꾸거나(고체, 액체, 기체), 물...  ...     Y\n",
              "88629  ( )은(는) 물체의 물리적 상태(Phase)를 바꾸거나(고체, 액체, 기체), 물...  ...     Y\n",
              "\n",
              "[5 rows x 3 columns]"
            ]
          },
          "metadata": {
            "tags": []
          },
          "execution_count": 36
        }
      ]
    },
    {
      "cell_type": "markdown",
      "metadata": {
        "id": "Ue0XMbCrUSup",
        "colab_type": "text"
      },
      "source": [
        "DataFrame 그룹화 하기"
      ]
    },
    {
      "cell_type": "code",
      "metadata": {
        "id": "cmiQzFr2GfFb",
        "colab_type": "code",
        "colab": {}
      },
      "source": [
        "questions_df = all_df.groupby(['question_idx'])"
      ],
      "execution_count": 0,
      "outputs": []
    },
    {
      "cell_type": "code",
      "metadata": {
        "id": "PZLfoQ13hdNb",
        "colab_type": "code",
        "outputId": "30ae4196-cc99-4e5d-9a64-d328e2aea35f",
        "colab": {
          "base_uri": "https://localhost:8080/",
          "height": 34
        }
      },
      "source": [
        "len(question_df), len(all_df)"
      ],
      "execution_count": 0,
      "outputs": [
        {
          "output_type": "execute_result",
          "data": {
            "text/plain": [
              "(6690, 128458)"
            ]
          },
          "metadata": {
            "tags": []
          },
          "execution_count": 41
        }
      ]
    }
  ]
}